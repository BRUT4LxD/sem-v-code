{
 "cells": [
  {
   "cell_type": "code",
   "execution_count": 1,
   "id": "43ab4670",
   "metadata": {},
   "outputs": [
    {
     "name": "stdout",
     "output_type": "stream",
     "text": [
      "2.5.0\n",
      "The following GPU devices are available: /device:GPU:0\n"
     ]
    }
   ],
   "source": [
    "import tensorflow as tf\n",
    "import tensorflow_hub as hub\n",
    "import matplotlib.pyplot as plt\n",
    "import tempfile\n",
    "import numpy as np\n",
    "\n",
    "from PIL import Image\n",
    "from PIL import ImageColor\n",
    "from PIL import ImageDraw\n",
    "from PIL import ImageFont\n",
    "from PIL import ImageOps\n",
    "\n",
    "import cv2\n",
    "from tqdm import tqdm\n",
    "import time\n",
    "print(tf.__version__)\n",
    "print(\"The following GPU devices are available: %s\" % tf.test.gpu_device_name())"
   ]
  },
  {
   "cell_type": "code",
   "execution_count": 3,
   "id": "4c1cc62a",
   "metadata": {},
   "outputs": [],
   "source": [
    "model = hub.load(\"https://tfhub.dev/tensorflow/faster_rcnn/resnet152_v1_640x640/1\")"
   ]
  },
  {
   "cell_type": "code",
   "execution_count": 2,
   "id": "c4ae8d72",
   "metadata": {},
   "outputs": [],
   "source": [
    "import pandas as pd\n",
    "\n",
    "coco_labels_path = './../data/coco_labels.csv'\n",
    "coco_labels = pd.read_csv(coco_labels_path, header=None, index_col=0)\n",
    "labels_dict = coco_labels.to_dict()[1]"
   ]
  },
  {
   "cell_type": "code",
   "execution_count": null,
   "id": "0a583954",
   "metadata": {},
   "outputs": [],
   "source": [
    "labels_dict"
   ]
  },
  {
   "cell_type": "code",
   "execution_count": null,
   "id": "832d7672",
   "metadata": {},
   "outputs": [],
   "source": [
    "import imageio\n",
    "path = 'data/images/2.jpg'\n",
    "\n",
    "image_tensor = imageio.imread(path)[np.newaxis, ...]\n",
    "detector_output = model(image_tensor)\n",
    "class_ids = detector_output[\"detection_classes\"]"
   ]
  },
  {
   "cell_type": "code",
   "execution_count": null,
   "id": "166c60c4",
   "metadata": {},
   "outputs": [],
   "source": [
    "### DRAWING UTILS\n",
    "\n",
    "def display_image(image):\n",
    "    fig = plt.figure(figsize=(20, 15))\n",
    "    plt.grid(False)\n",
    "    plt.imshow(image)\n",
    "\n",
    "def download_and_resize_image(url, new_width=256, new_height=256, display=False):\n",
    "    _, filename = tempfile.mkstemp(suffix=\".jpg\")\n",
    "    response = urlopen(url)\n",
    "    image_data = response.read()\n",
    "    image_data = BytesIO(image_data)\n",
    "    pil_image = Image.open(image_data)\n",
    "    pil_image = ImageOps.fit(pil_image, (new_width, new_height), Image.ANTIALIAS)\n",
    "    pil_image_rgb = pil_image.convert(\"RGB\")\n",
    "    pil_image_rgb.save(filename, format=\"JPEG\", quality=90)\n",
    "    print(\"Image downloaded to %s.\" % filename)\n",
    "    if display:\n",
    "        display_image(pil_image)\n",
    "    return filename\n",
    "\n",
    "def draw_bounding_box_on_image(image, ymin, xmin, ymax, xmax, color, font, thickness=4, display_str_list=()):\n",
    "    draw = ImageDraw.Draw(image)\n",
    "    im_width, im_height = image.size\n",
    "    (left, right, top, bottom) = (xmin * im_width, xmax * im_width,\n",
    "                                ymin * im_height, ymax * im_height)\n",
    "    draw.line([(left, top), (left, bottom), (right, bottom), (right, top), (left, top)], width=thickness, fill=color)\n",
    "\n",
    "    display_str_heights = [font.getsize(ds)[1] for ds in display_str_list]\n",
    "    total_display_str_height = (1 + 2 * 0.05) * sum(display_str_heights)\n",
    "\n",
    "    if top > total_display_str_height:\n",
    "        text_bottom = top\n",
    "    else:\n",
    "        text_bottom = top + total_display_str_height\n",
    "    for display_str in display_str_list[::-1]:\n",
    "        text_width, text_height = font.getsize(display_str)\n",
    "        margin = np.ceil(0.05 * text_height)\n",
    "        draw.rectangle([(left, text_bottom - text_height - 2 * margin),\n",
    "                        (left + text_width, text_bottom)],\n",
    "                       fill=color)\n",
    "        draw.text((left + margin, text_bottom - text_height - margin),\n",
    "                  display_str,\n",
    "                  fill=\"black\",\n",
    "                  font=font)\n",
    "        text_bottom -= text_height - 2 * margin\n",
    "\n",
    "def draw_boxes(image, boxes, class_names, scores, max_boxes=100, min_score=0.3):\n",
    "    colors = list(ImageColor.colormap.values())\n",
    "    try:\n",
    "        font = ImageFont.truetype(\"/usr/share/fonts/truetype/liberation/LiberationSansNarrow-Regular.ttf\", 25)\n",
    "    except IOError:\n",
    "        print(\"Font not found, using default font.\")\n",
    "        font = ImageFont.load_default()\n",
    "\n",
    "    for i in range(min(boxes.shape[0], max_boxes)):\n",
    "        if scores[i] >= min_score:\n",
    "            ymin, xmin, ymax, xmax = tuple(boxes[i])\n",
    "            display_str = \"{}: {}%\".format(labels_dict[class_names[i]], int(100 * scores[i]))\n",
    "            color = colors[hash(class_names[i]) % len(colors)]\n",
    "            image_pil = Image.fromarray(np.uint8(image)).convert(\"RGB\")\n",
    "            draw_bounding_box_on_image(image_pil, ymin, xmin, ymax, xmax, color, font, display_str_list=[display_str])\n",
    "            np.copyto(image, np.array(image_pil))\n",
    "    return image\n"
   ]
  },
  {
   "cell_type": "code",
   "execution_count": null,
   "id": "8d2fbda8",
   "metadata": {},
   "outputs": [],
   "source": [
    "def load_img(path):\n",
    "    img = tf.io.read_file(path)\n",
    "    img = tf.image.decode_jpeg(img, channels=3)\n",
    "    print(type(img))\n",
    "    return img\n",
    "\n",
    "def run_detector(detector, path):\n",
    "    img = load_img(path)\n",
    "    print(img.shape)\n",
    "    start_time = time.time()\n",
    "    result = detector(img[np.newaxis, ...])\n",
    "    end_time = time.time()\n",
    "    \n",
    "    result = {key:value.numpy() for key,value in result.items()}\n",
    "    print(\"Found %d objects.\" % len(result[\"detection_scores\"]))\n",
    "    print(\"Inference time: \", end_time-start_time)\n",
    "    image_with_boxes = draw_boxes( img.numpy(), result[\"detection_boxes\"][0], result[\"detection_classes\"][0], result[\"detection_scores\"][0])\n",
    "    display_image(image_with_boxes)\n",
    "    \n",
    "def run_detector_from_camera(detector): \n",
    "    cap1 = cv2.VideoCapture(0) \n",
    "    try:\n",
    "        start = time.time()\n",
    "        for i in tqdm(range(0, 10)):\n",
    "            ret, img = cap1.read()\n",
    "            img = tf.convert_to_tensor(img, dtype=tf.uint8)\n",
    "            img = tf.expand_dims(img, 0)\n",
    "            result = detector(img)\n",
    "            print(\"detection_boxes\", result[\"detection_boxes\"][0])\n",
    "            print(\"detection_classes\", result[\"detection_classes\"][0])\n",
    "            print(\"detection_scores\", result[\"detection_scores\"][0])\n",
    "            image_with_boxes = draw_boxes(img, result[\"detection_boxes\"][0], result[\"detection_classes\"][0], result[\"detection_scores\"][0])\n",
    "            cv2.imshow(\"dsaf\", img)\n",
    "            if cv2.waitKey(1) & 0xFF == ord('q'):\n",
    "                break\n",
    "    finally:\n",
    "        cap1.release()\n",
    "        cv2.destroyAllWindows()  "
   ]
  },
  {
   "cell_type": "code",
   "execution_count": null,
   "id": "6b1c794a",
   "metadata": {},
   "outputs": [],
   "source": [
    "run_detector_from_camera(model)"
   ]
  }
 ],
 "metadata": {
  "kernelspec": {
   "display_name": "Python 3",
   "language": "python",
   "name": "python3"
  },
  "language_info": {
   "codemirror_mode": {
    "name": "ipython",
    "version": 3
   },
   "file_extension": ".py",
   "mimetype": "text/x-python",
   "name": "python",
   "nbconvert_exporter": "python",
   "pygments_lexer": "ipython3",
   "version": "3.9.7"
  }
 },
 "nbformat": 4,
 "nbformat_minor": 5
}
